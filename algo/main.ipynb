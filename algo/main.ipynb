{
 "cells": [
  {
   "cell_type": "code",
   "execution_count": null,
   "metadata": {},
   "outputs": [],
   "source": [
    "import numpy as np\n",
    "import pandas as pd"
   ]
  },
  {
   "cell_type": "code",
   "execution_count": 64,
   "metadata": {},
   "outputs": [],
   "source": [
    "books = pd.read_csv('./data/Books.csv',low_memory=False)\n",
    "users = pd.read_csv('./data/Users.csv')\n",
    "ratings = pd.read_csv('./data/Ratings.csv')"
   ]
  },
  {
   "cell_type": "code",
   "execution_count": null,
   "metadata": {},
   "outputs": [],
   "source": [
    "books.head()\n",
    "# users.head()\n",
    "# ratings.head()"
   ]
  },
  {
   "cell_type": "code",
   "execution_count": null,
   "metadata": {},
   "outputs": [],
   "source": [
    "ratings_with_books = pd.merge(ratings, books, on='ISBN')\n",
    "ratings_with_books"
   ]
  },
  {
   "cell_type": "code",
   "execution_count": null,
   "metadata": {},
   "outputs": [],
   "source": [
    "# using Bayesian Average to find the most popular books of all time\n",
    "# Bayesian Average = (v/(v+m)) * R + (m/(v+m)) * C\n",
    "\n",
    "# v = number of votes for the book\n",
    "# m = minimum votes required to be listed in the chart\n",
    "# R = average rating of the book\n",
    "# C = mean vote across the whole report"
   ]
  },
  {
   "attachments": {},
   "cell_type": "markdown",
   "metadata": {},
   "source": [
    "### Using Bayesian Average to find most popular books of all time\n",
    "\n",
    "Formulas for Bayesian Average:\n",
    "\n",
    "$$\\text{Bayesian Average} = \\frac{v}{v+m} \\times \\text{Average Rating} + \\frac{m}{v+m} \\times \\text{Average Rating of All Books}$$\n",
    "\n",
    "where $v$ is the number of votes for the book and $m$ is the minimum votes required to be listed in the chart."
   ]
  },
  {
   "cell_type": "code",
   "execution_count": null,
   "metadata": {},
   "outputs": [],
   "source": [
    "number_of_rating = ratings_with_books.groupby('ISBN')['Book-Rating'].count().reset_index()\n",
    "number_of_rating.rename(columns={'Book-Rating': 'number_of_rating'}, inplace=True)\n",
    "number_of_rating"
   ]
  },
  {
   "cell_type": "code",
   "execution_count": null,
   "metadata": {},
   "outputs": [],
   "source": [
    "average_rating = ratings_with_books.groupby('ISBN')['Book-Rating'].mean().reset_index()\n",
    "average_rating.rename(columns={'Book-Rating': 'average_rating'}, inplace=True)\n",
    "average_rating"
   ]
  },
  {
   "cell_type": "code",
   "execution_count": null,
   "metadata": {},
   "outputs": [],
   "source": [
    "C = average_rating['average_rating'].mean()\n",
    "C"
   ]
  },
  {
   "cell_type": "code",
   "execution_count": null,
   "metadata": {},
   "outputs": [],
   "source": [
    "M = 250"
   ]
  },
  {
   "cell_type": "code",
   "execution_count": null,
   "metadata": {},
   "outputs": [],
   "source": [
    "popular_books = number_of_rating.merge(average_rating, on='ISBN')\n",
    "popular_books['weighted_average'] = ((popular_books['number_of_rating']/(popular_books['number_of_rating']+M)) * popular_books['average_rating']) + ((M/(popular_books['number_of_rating']+M)) * C)\n",
    "popular_books"
   ]
  },
  {
   "cell_type": "code",
   "execution_count": null,
   "metadata": {},
   "outputs": [],
   "source": [
    "popular_books.sort_values('weighted_average', ascending=False).head(10)"
   ]
  },
  {
   "cell_type": "code",
   "execution_count": null,
   "metadata": {},
   "outputs": [],
   "source": [
    "popular_books_with_title = popular_books.merge(books, on='ISBN')\n",
    "\n",
    "top_25_books = popular_books_with_title.sort_values('weighted_average', ascending=False).head(25) \n",
    "top_25_books"
   ]
  },
  {
   "cell_type": "code",
   "execution_count": null,
   "metadata": {},
   "outputs": [],
   "source": [
    "# getting active readers with at least 200 ratings\n",
    "active_readers = ratings_with_books.groupby('User-ID')['Book-Rating'].count().reset_index()\n",
    "active_readers.rename(columns={'Book-Rating': 'number_of_rating'}, inplace=True)\n",
    "active_readers = active_readers[active_readers['number_of_rating'] >= 200]\n",
    "active_readers"
   ]
  },
  {
   "cell_type": "code",
   "execution_count": null,
   "metadata": {},
   "outputs": [],
   "source": [
    "filtered_ratings = ratings_with_books[ratings_with_books['User-ID'].isin(active_readers['User-ID'])]\n",
    "filtered_ratings"
   ]
  },
  {
   "cell_type": "code",
   "execution_count": null,
   "metadata": {},
   "outputs": [],
   "source": [
    "# books with more than 50 ratings\n",
    "known_books = filtered_ratings.groupby('ISBN').count()['Book-Rating'] >= 50\n",
    "known_books = known_books[known_books].index\n",
    "known_books"
   ]
  },
  {
   "cell_type": "code",
   "execution_count": null,
   "metadata": {},
   "outputs": [],
   "source": [
    "final_ratings = filtered_ratings[filtered_ratings['ISBN'].isin(known_books)]\n",
    "final_ratings"
   ]
  },
  {
   "cell_type": "code",
   "execution_count": null,
   "metadata": {},
   "outputs": [],
   "source": [
    "pt = final_ratings.pivot_table(index='ISBN', columns='User-ID', values='Book-Rating').fillna(0)\n",
    "pt"
   ]
  },
  {
   "cell_type": "code",
   "execution_count": null,
   "metadata": {},
   "outputs": [],
   "source": [
    "from sklearn.metrics.pairwise import cosine_similarity"
   ]
  },
  {
   "cell_type": "code",
   "execution_count": null,
   "metadata": {},
   "outputs": [],
   "source": [
    "similarity_scores = cosine_similarity(pt)"
   ]
  },
  {
   "cell_type": "code",
   "execution_count": null,
   "metadata": {},
   "outputs": [],
   "source": [
    "def recommend_books(book_id):\n",
    "    index = np.where(pt.index == book_id)[0][0]\n",
    "\n",
    "    similar_books = list(enumerate(similarity_scores[index]))\n",
    "    similar_books = sorted(similar_books, key=lambda x: x[1], reverse=True)\n",
    "\n",
    "    # sending only 10 books\n",
    "    similar_books = similar_books[1:11]\n",
    "\n",
    "    books_with_details = []\n",
    "\n",
    "    for i in similar_books:\n",
    "        book = books[books['ISBN'] == pt.index[i[0]]]\n",
    "        book = book.iloc[0]\n",
    "        book = book.to_dict()\n",
    "        book['number_of_rating'] = ratings_with_books[ratings_with_books['ISBN'] == book['ISBN']]['Book-Rating'].count()\n",
    "        book['average_rating'] = ratings_with_books[ratings_with_books['ISBN'] == book['ISBN']]['Book-Rating'].mean()\n",
    "        books_with_details.append(book)\n",
    "\n",
    "    return books_with_details"
   ]
  },
  {
   "cell_type": "code",
   "execution_count": null,
   "metadata": {},
   "outputs": [],
   "source": [
    "recommend_books(\"0439136350\")"
   ]
  },
  {
   "cell_type": "code",
   "execution_count": null,
   "metadata": {},
   "outputs": [],
   "source": [
    "import pickle"
   ]
  },
  {
   "cell_type": "code",
   "execution_count": null,
   "metadata": {},
   "outputs": [],
   "source": [
    "pickle.dump(top_25_books, open('../api-server/model/top_25_books.pkl', 'wb'))"
   ]
  },
  {
   "attachments": {},
   "cell_type": "markdown",
   "metadata": {},
   "source": [
    "<!-- def recommend_books(book_id):\n",
    "    index = pt.index.get_loc(book_id)\n",
    "\n",
    "    similar_books = list(enumerate(similarity_scores[index]))\n",
    "    similar_books = sorted(similar_books, key=lambda x: x[1], reverse=True)\n",
    "\n",
    "    # sending only 10 books\n",
    "    similar_books = similar_books[1:11]\n",
    "\n",
    "    books_with_details = []\n",
    "\n",
    "    for i in similar_books:\n",
    "        book = books[books['ISBN'] == pt.index[i[0]]]\n",
    "        book = book.iloc[0]\n",
    "        book = book.to_dict()\n",
    "        book['number_of_rating'] = ratings_with_books[ratings_with_books['ISBN'] == book['ISBN']]['Book-Rating'].count()\n",
    "        book['average_rating'] = ratings_with_books[ratings_with_books['ISBN'] == book['ISBN']]['Book-Rating'].mean()\n",
    "        books_with_details.append(book)\n",
    "\n",
    "    return books_with_details -->\n"
   ]
  },
  {
   "cell_type": "code",
   "execution_count": null,
   "metadata": {},
   "outputs": [],
   "source": [
    "# pt\n",
    "pickle.dump(pt, open('../api-server/model/pt.pkl', 'wb'))\n",
    "# similar books\n",
    "pickle.dump(similarity_scores, open('../api-server/model/similarity_scores.pkl', 'wb'))\n",
    "# ratings_with_books\n",
    "pickle.dump(ratings_with_books, open('../api-server/model/ratings_with_books.pkl', 'wb'))\n",
    "# books\n",
    "pickle.dump(books, open('../api-server/model/books.pkl', 'wb'))"
   ]
  }
 ],
 "metadata": {
  "kernelspec": {
   "display_name": "env",
   "language": "python",
   "name": "python3"
  },
  "language_info": {
   "codemirror_mode": {
    "name": "ipython",
    "version": 3
   },
   "file_extension": ".py",
   "mimetype": "text/x-python",
   "name": "python",
   "nbconvert_exporter": "python",
   "pygments_lexer": "ipython3",
   "version": "3.10.4"
  },
  "orig_nbformat": 4
 },
 "nbformat": 4,
 "nbformat_minor": 2
}
